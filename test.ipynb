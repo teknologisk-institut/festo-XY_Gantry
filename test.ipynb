{
 "cells": [
  {
   "cell_type": "code",
   "execution_count": 19,
   "metadata": {},
   "outputs": [],
   "source": [
    "import gantry as gt\n",
    "addresses = ['10.19.96.157','10.19.96.158']"
   ]
  },
  {
   "cell_type": "code",
   "execution_count": 20,
   "metadata": {},
   "outputs": [],
   "source": [
    "stages = gt.Gantry()\n",
    "stages.connect(addresses)"
   ]
  },
  {
   "cell_type": "code",
   "execution_count": 21,
   "metadata": {},
   "outputs": [
    {
     "name": "stdout",
     "output_type": "stream",
     "text": [
      "[0, 0]\n",
      "[0, 0]\n",
      "[0, 0]\n",
      "[0, 0]\n"
     ]
    }
   ],
   "source": [
    "print(stages.positionAbs())\n",
    "print(stages.positionRel())\n",
    "stages.setCenter()\n",
    "print(stages.positionAbs())\n",
    "print(stages.positionRel())\n"
   ]
  },
  {
   "cell_type": "code",
   "execution_count": 22,
   "metadata": {},
   "outputs": [
    {
     "name": "stdout",
     "output_type": "stream",
     "text": [
      "[0, 0]\n",
      "[0, 0]\n"
     ]
    }
   ],
   "source": [
    "stages.toCorner()\n",
    "print(stages.positionAbs())\n",
    "stages.setCenter()"
   ]
  },
  {
   "cell_type": "code",
   "execution_count": 23,
   "metadata": {},
   "outputs": [
    {
     "name": "stdout",
     "output_type": "stream",
     "text": [
      "from 'moveAbsolute': Moving to position: 250\n",
      "from 'moveAbsolute': Moving to position: 250\n",
      "[250, 250]\n"
     ]
    }
   ],
   "source": [
    "stages.moveAbsolute([250,250])\n",
    "print(stages.positionAbs())\n",
    "stages.setCenter()"
   ]
  },
  {
   "cell_type": "code",
   "execution_count": 24,
   "metadata": {},
   "outputs": [
    {
     "name": "stdout",
     "output_type": "stream",
     "text": [
      "[0, 0]\n"
     ]
    }
   ],
   "source": [
    "# stages.setZero()\n",
    "stages.setCenter()\n",
    "print(stages.positionRel())"
   ]
  },
  {
   "cell_type": "code",
   "execution_count": 25,
   "metadata": {},
   "outputs": [
    {
     "name": "stdout",
     "output_type": "stream",
     "text": [
      "[-25.  -12.5   0.   12.5  25. ]\n",
      "[-25.  -12.5   0.   12.5  25. ]\n",
      "from 'moveAbsolute': Moving to position: -25\n",
      "from 'moveAbsolute': Moving to position: -25\n",
      "width position =  -25.0\n",
      "length position =  -25.0\n",
      "[224, 225]\n",
      "[-26, -25]\n",
      "from 'moveAbsolute': Moving to position: -25\n",
      "from 'moveAbsolute': Moving to position: -12\n",
      "width position =  -25.0\n",
      "length position =  -12.5\n",
      "[224, 237]\n",
      "[-26, -13]\n",
      "from 'moveAbsolute': Moving to position: -25\n",
      "from 'moveAbsolute': Moving to position: 0\n",
      "width position =  -25.0\n",
      "length position =  0.0\n",
      "[224, 250]\n",
      "[-26, 0]\n",
      "from 'moveAbsolute': Moving to position: -25\n",
      "from 'moveAbsolute': Moving to position: 12\n",
      "width position =  -25.0\n",
      "length position =  12.5\n",
      "[224, 262]\n",
      "[-26, 12]\n",
      "from 'moveAbsolute': Moving to position: -25\n",
      "from 'moveAbsolute': Moving to position: 25\n",
      "width position =  -25.0\n",
      "length position =  25.0\n",
      "[224, 274]\n",
      "[-26, 24]\n",
      "from 'moveAbsolute': Moving to position: -12\n",
      "from 'moveAbsolute': Moving to position: -25\n",
      "width position =  -12.5\n",
      "length position =  -25.0\n",
      "[238, 225]\n",
      "[-12, -25]\n",
      "from 'moveAbsolute': Moving to position: -12\n",
      "from 'moveAbsolute': Moving to position: -12\n",
      "width position =  -12.5\n",
      "length position =  -12.5\n",
      "[238, 237]\n",
      "[-12, -13]\n",
      "from 'moveAbsolute': Moving to position: -12\n",
      "from 'moveAbsolute': Moving to position: 0\n",
      "width position =  -12.5\n",
      "length position =  0.0\n",
      "[238, 250]\n",
      "[-12, 0]\n",
      "from 'moveAbsolute': Moving to position: -12\n",
      "from 'moveAbsolute': Moving to position: 12\n",
      "width position =  -12.5\n",
      "length position =  12.5\n",
      "[238, 262]\n",
      "[-12, 12]\n",
      "from 'moveAbsolute': Moving to position: -12\n",
      "from 'moveAbsolute': Moving to position: 25\n",
      "width position =  -12.5\n",
      "length position =  25.0\n",
      "[238, 274]\n",
      "[-12, 24]\n",
      "from 'moveAbsolute': Moving to position: 0\n",
      "from 'moveAbsolute': Moving to position: -25\n",
      "width position =  0.0\n",
      "length position =  -25.0\n",
      "[250, 225]\n",
      "[0, -25]\n",
      "from 'moveAbsolute': Moving to position: 0\n",
      "from 'moveAbsolute': Moving to position: -12\n",
      "width position =  0.0\n",
      "length position =  -12.5\n",
      "[250, 237]\n",
      "[0, -13]\n",
      "from 'moveAbsolute': Moving to position: 0\n",
      "from 'moveAbsolute': Moving to position: 0\n",
      "width position =  0.0\n",
      "length position =  0.0\n",
      "[250, 250]\n",
      "[0, 0]\n",
      "from 'moveAbsolute': Moving to position: 0\n",
      "from 'moveAbsolute': Moving to position: 12\n",
      "width position =  0.0\n",
      "length position =  12.5\n",
      "[250, 262]\n",
      "[0, 12]\n",
      "from 'moveAbsolute': Moving to position: 0\n",
      "from 'moveAbsolute': Moving to position: 25\n",
      "width position =  0.0\n",
      "length position =  25.0\n",
      "[250, 274]\n",
      "[0, 24]\n",
      "from 'moveAbsolute': Moving to position: 12\n",
      "from 'moveAbsolute': Moving to position: -25\n",
      "width position =  12.5\n",
      "length position =  -25.0\n",
      "[262, 225]\n",
      "[12, -25]\n",
      "from 'moveAbsolute': Moving to position: 12\n",
      "from 'moveAbsolute': Moving to position: -12\n",
      "width position =  12.5\n",
      "length position =  -12.5\n",
      "[262, 237]\n",
      "[12, -13]\n",
      "from 'moveAbsolute': Moving to position: 12\n",
      "from 'moveAbsolute': Moving to position: 0\n",
      "width position =  12.5\n",
      "length position =  0.0\n",
      "[262, 250]\n",
      "[12, 0]\n",
      "from 'moveAbsolute': Moving to position: 12\n",
      "from 'moveAbsolute': Moving to position: 12\n",
      "width position =  12.5\n",
      "length position =  12.5\n",
      "[262, 262]\n",
      "[12, 12]\n",
      "from 'moveAbsolute': Moving to position: 12\n",
      "from 'moveAbsolute': Moving to position: 25\n",
      "width position =  12.5\n",
      "length position =  25.0\n",
      "[262, 274]\n",
      "[12, 24]\n",
      "from 'moveAbsolute': Moving to position: 25\n",
      "from 'moveAbsolute': Moving to position: -25\n",
      "width position =  25.0\n",
      "length position =  -25.0\n",
      "[274, 224]\n",
      "[24, -25]\n",
      "from 'moveAbsolute': Moving to position: 25\n",
      "from 'moveAbsolute': Moving to position: -12\n",
      "width position =  25.0\n",
      "length position =  -12.5\n",
      "[274, 237]\n",
      "[24, -13]\n",
      "from 'moveAbsolute': Moving to position: 25\n",
      "from 'moveAbsolute': Moving to position: 0\n",
      "width position =  25.0\n",
      "length position =  0.0\n",
      "[274, 250]\n",
      "[24, 0]\n",
      "from 'moveAbsolute': Moving to position: 25\n",
      "from 'moveAbsolute': Moving to position: 12\n",
      "width position =  25.0\n",
      "length position =  12.5\n",
      "[274, 262]\n",
      "[24, 12]\n",
      "from 'moveAbsolute': Moving to position: 25\n",
      "from 'moveAbsolute': Moving to position: 25\n",
      "width position =  25.0\n",
      "length position =  25.0\n",
      "[274, 274]\n",
      "[24, 24]\n",
      "[268, 274]\n",
      "[245, 258]\n",
      "[205, 235]\n",
      "[179, 215]\n",
      "[153, 195]\n",
      "[116, 170]\n",
      "[93, 148]\n",
      "[59, 125]\n",
      "[25, 102]\n",
      "[5, 81]\n",
      "[0, 59]\n",
      "[0, 38]\n",
      "[0, 18]\n",
      "[0, 1]\n",
      "[0, 0]\n"
     ]
    }
   ],
   "source": [
    "stages.pattern(50,50,5,5,2)\n",
    "stages.toCorner()\n",
    "stages.close()"
   ]
  },
  {
   "cell_type": "code",
   "execution_count": 26,
   "metadata": {},
   "outputs": [],
   "source": [
    "stages.close()"
   ]
  },
  {
   "cell_type": "code",
   "execution_count": 27,
   "metadata": {},
   "outputs": [
    {
     "name": "stderr",
     "output_type": "stream",
     "text": [
      "Traversing task aborted\n",
      "Traversing task aborted\n"
     ]
    },
    {
     "name": "stderr",
     "output_type": "stream",
     "text": [
      "Modbus client is not reachable\n",
      "Modbus client is not reachable\n",
      "Traceback (most recent call last):\n",
      "  File \"c:\\Users\\peo\\AppData\\Local\\anaconda3\\envs\\festo\\Lib\\site-packages\\edcon\\edrive\\com_modbus.py\", line 161, in perform_io\n",
      "    reg.to_bytes(2, \"little\") for reg in indata.registers\n",
      "                                         ^^^^^^^^^^^^^^^^\n",
      "AttributeError: 'ModbusIOException' object has no attribute 'registers'\n",
      "\n",
      "During handling of the above exception, another exception occurred:\n",
      "\n",
      "Traceback (most recent call last):\n",
      "  File \"c:\\Users\\peo\\AppData\\Local\\anaconda3\\envs\\festo\\Lib\\site-packages\\edcon\\edrive\\com_modbus.py\", line 56, in run\n",
      "    self.perform_io()\n",
      "  File \"c:\\Users\\peo\\AppData\\Local\\anaconda3\\envs\\festo\\Lib\\site-packages\\edcon\\edrive\\com_modbus.py\", line 174, in perform_io\n",
      "    self.shutdown()\n",
      "  File \"c:\\Users\\peo\\AppData\\Local\\anaconda3\\envs\\festo\\Lib\\site-packages\\edcon\\edrive\\com_modbus.py\", line 108, in shutdown\n",
      "    self.io_thread.join()\n",
      "  File \"c:\\Users\\peo\\AppData\\Local\\anaconda3\\envs\\festo\\Lib\\threading.py\", line 1116, in join\n",
      "    raise RuntimeError(\"cannot join current thread\")\n",
      "RuntimeError: cannot join current thread\n",
      "\n",
      "Traceback (most recent call last):\n",
      "  File \"c:\\Users\\peo\\AppData\\Local\\anaconda3\\envs\\festo\\Lib\\site-packages\\edcon\\edrive\\com_modbus.py\", line 161, in perform_io\n",
      "    reg.to_bytes(2, \"little\") for reg in indata.registers\n",
      "                                         ^^^^^^^^^^^^^^^^\n",
      "AttributeError: 'ModbusIOException' object has no attribute 'registers'\n",
      "\n",
      "During handling of the above exception, another exception occurred:\n",
      "\n",
      "Traceback (most recent call last):\n",
      "  File \"c:\\Users\\peo\\AppData\\Local\\anaconda3\\envs\\festo\\Lib\\site-packages\\edcon\\edrive\\com_modbus.py\", line 56, in run\n",
      "    self.perform_io()\n",
      "  File \"c:\\Users\\peo\\AppData\\Local\\anaconda3\\envs\\festo\\Lib\\site-packages\\edcon\\edrive\\com_modbus.py\", line 174, in perform_io\n",
      "    self.shutdown()\n",
      "  File \"c:\\Users\\peo\\AppData\\Local\\anaconda3\\envs\\festo\\Lib\\site-packages\\edcon\\edrive\\com_modbus.py\", line 108, in shutdown\n",
      "    self.io_thread.join()\n",
      "  File \"c:\\Users\\peo\\AppData\\Local\\anaconda3\\envs\\festo\\Lib\\threading.py\", line 1116, in join\n",
      "    raise RuntimeError(\"cannot join current thread\")\n",
      "RuntimeError: cannot join current thread\n",
      "\n"
     ]
    }
   ],
   "source": [
    "stages.home()"
   ]
  },
  {
   "cell_type": "code",
   "execution_count": null,
   "metadata": {},
   "outputs": [],
   "source": []
  }
 ],
 "metadata": {
  "kernelspec": {
   "display_name": "festo",
   "language": "python",
   "name": "python3"
  },
  "language_info": {
   "codemirror_mode": {
    "name": "ipython",
    "version": 3
   },
   "file_extension": ".py",
   "mimetype": "text/x-python",
   "name": "python",
   "nbconvert_exporter": "python",
   "pygments_lexer": "ipython3",
   "version": "3.11.9"
  }
 },
 "nbformat": 4,
 "nbformat_minor": 2
}
